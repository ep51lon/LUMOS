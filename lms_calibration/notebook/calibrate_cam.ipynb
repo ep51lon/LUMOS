{
 "cells": [
  {
   "cell_type": "code",
   "execution_count": null,
   "id": "cf600ecf",
   "metadata": {},
   "outputs": [],
   "source": [
    "import cv2\n",
    "import numpy as np\n",
    "import glob\n",
    "import os\n",
    "import apriltag\n",
    "import matplotlib.pyplot as plt"
   ]
  },
  {
   "cell_type": "code",
   "execution_count": null,
   "id": "38df4fe8",
   "metadata": {},
   "outputs": [],
   "source": [
    "# Set the dataset path\n",
    "dataset_dir = '/Users/ep51lon-mac/Universe-local/Workspace/Local/ITB/01_Research/Projects/04_LUMOS/Code/LUMOS/lms_dataset/REC_20250801'\n",
    "\n",
    "# Get image file paths\n",
    "image_paths = sorted(glob.glob(os.path.join(dataset_dir, '*.png')) + glob.glob(os.path.join(dataset_dir, '*.png')))\n",
    "print(f\"Found {len(image_paths)} images.\")"
   ]
  }
 ],
 "metadata": {
  "kernelspec": {
   "display_name": "ROS2env",
   "language": "python",
   "name": "python3"
  },
  "language_info": {
   "name": "python",
   "version": "3.11.8"
  }
 },
 "nbformat": 4,
 "nbformat_minor": 5
}
